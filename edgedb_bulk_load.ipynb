{
 "cells": [
  {
   "cell_type": "code",
   "execution_count": 1,
   "metadata": {},
   "outputs": [],
   "source": [
    "import edgedb\n",
    "import json\n",
    "import pandas as pd"
   ]
  },
  {
   "cell_type": "code",
   "execution_count": 2,
   "metadata": {},
   "outputs": [],
   "source": [
    "with open('web_scrapers/breed.json', \"r\") as f:\n",
    "    jsonBreed = json.load(f)\n",
    "    jsonBreedstr = json.dumps(jsonBreed)\n",
    "#print(jsonBreed)"
   ]
  },
  {
   "cell_type": "code",
   "execution_count": 3,
   "metadata": {},
   "outputs": [],
   "source": [
    "client = edgedb.create_client()"
   ]
  },
  {
   "cell_type": "code",
   "execution_count": 4,
   "metadata": {},
   "outputs": [
    {
     "ename": "InvalidValueError",
     "evalue": "cannot extract elements from an object",
     "output_type": "error",
     "traceback": [
      "\u001b[0;31m---------------------------------------------------------------------------\u001b[0m",
      "\u001b[0;31mInvalidValueError\u001b[0m                         Traceback (most recent call last)",
      "\u001b[1;32m/Users/alissaellingson/MSDS459_Proj/edgedb_bulk_load.ipynb Cell 4\u001b[0m line \u001b[0;36m1\n\u001b[0;32m----> <a href='vscode-notebook-cell:/Users/alissaellingson/MSDS459_Proj/edgedb_bulk_load.ipynb#W3sZmlsZQ%3D%3D?line=0'>1</a>\u001b[0m client\u001b[39m.\u001b[39mquery(\u001b[39m\"\"\"\u001b[39m\n\u001b[1;32m      <a href='vscode-notebook-cell:/Users/alissaellingson/MSDS459_Proj/edgedb_bulk_load.ipynb#W3sZmlsZQ%3D%3D?line=1'>2</a>\u001b[0m \u001b[39m    with\u001b[39m\n\u001b[1;32m      <a href='vscode-notebook-cell:/Users/alissaellingson/MSDS459_Proj/edgedb_bulk_load.ipynb#W3sZmlsZQ%3D%3D?line=2'>3</a>\u001b[0m \u001b[39m            raw_data := <json>$data,\u001b[39m\n\u001b[1;32m      <a href='vscode-notebook-cell:/Users/alissaellingson/MSDS459_Proj/edgedb_bulk_load.ipynb#W3sZmlsZQ%3D%3D?line=3'>4</a>\u001b[0m \u001b[39m    for item in json_array_unpack(raw_data) union (\u001b[39m\n\u001b[1;32m      <a href='vscode-notebook-cell:/Users/alissaellingson/MSDS459_Proj/edgedb_bulk_load.ipynb#W3sZmlsZQ%3D%3D?line=4'>5</a>\u001b[0m \u001b[39m        insert Breed \u001b[39m\u001b[39m{\u001b[39m\u001b[39m name := <str>item[\u001b[39m\u001b[39m'\u001b[39m\u001b[39mname\u001b[39m\u001b[39m'\u001b[39m\u001b[39m] }\u001b[39m\n\u001b[1;32m      <a href='vscode-notebook-cell:/Users/alissaellingson/MSDS459_Proj/edgedb_bulk_load.ipynb#W3sZmlsZQ%3D%3D?line=5'>6</a>\u001b[0m \u001b[39m    );\u001b[39m\n\u001b[1;32m      <a href='vscode-notebook-cell:/Users/alissaellingson/MSDS459_Proj/edgedb_bulk_load.ipynb#W3sZmlsZQ%3D%3D?line=6'>7</a>\u001b[0m \u001b[39m\"\"\"\u001b[39m, data\u001b[39m=\u001b[39mjsonBreedstr)\n",
      "File \u001b[0;32m~/anaconda3/lib/python3.11/site-packages/edgedb/abstract.py:148\u001b[0m, in \u001b[0;36mReadOnlyExecutor.query\u001b[0;34m(self, query, *args, **kwargs)\u001b[0m\n\u001b[1;32m    147\u001b[0m \u001b[39mdef\u001b[39;00m \u001b[39mquery\u001b[39m(\u001b[39mself\u001b[39m, query: \u001b[39mstr\u001b[39m, \u001b[39m*\u001b[39margs, \u001b[39m*\u001b[39m\u001b[39m*\u001b[39mkwargs) \u001b[39m-\u001b[39m\u001b[39m>\u001b[39m \u001b[39mlist\u001b[39m:\n\u001b[0;32m--> 148\u001b[0m     \u001b[39mreturn\u001b[39;00m \u001b[39mself\u001b[39m\u001b[39m.\u001b[39m_query(QueryContext(\n\u001b[1;32m    149\u001b[0m         query\u001b[39m=\u001b[39mQueryWithArgs(query, args, kwargs),\n\u001b[1;32m    150\u001b[0m         cache\u001b[39m=\u001b[39m\u001b[39mself\u001b[39m\u001b[39m.\u001b[39m_get_query_cache(),\n\u001b[1;32m    151\u001b[0m         query_options\u001b[39m=\u001b[39m_query_opts,\n\u001b[1;32m    152\u001b[0m         retry_options\u001b[39m=\u001b[39m\u001b[39mself\u001b[39m\u001b[39m.\u001b[39m_get_retry_options(),\n\u001b[1;32m    153\u001b[0m         state\u001b[39m=\u001b[39m\u001b[39mself\u001b[39m\u001b[39m.\u001b[39m_get_state(),\n\u001b[1;32m    154\u001b[0m     ))\n",
      "File \u001b[0;32m~/anaconda3/lib/python3.11/site-packages/edgedb/blocking_client.py:371\u001b[0m, in \u001b[0;36mClient._query\u001b[0;34m(self, query_context)\u001b[0m\n\u001b[1;32m    370\u001b[0m \u001b[39mdef\u001b[39;00m \u001b[39m_query\u001b[39m(\u001b[39mself\u001b[39m, query_context: abstract\u001b[39m.\u001b[39mQueryContext):\n\u001b[0;32m--> 371\u001b[0m     \u001b[39mreturn\u001b[39;00m \u001b[39mself\u001b[39m\u001b[39m.\u001b[39m_iter_coroutine(\u001b[39msuper\u001b[39m()\u001b[39m.\u001b[39m_query(query_context))\n",
      "File \u001b[0;32m~/anaconda3/lib/python3.11/site-packages/edgedb/blocking_client.py:360\u001b[0m, in \u001b[0;36mClient._iter_coroutine\u001b[0;34m(self, coro)\u001b[0m\n\u001b[1;32m    358\u001b[0m \u001b[39mdef\u001b[39;00m \u001b[39m_iter_coroutine\u001b[39m(\u001b[39mself\u001b[39m, coro):\n\u001b[1;32m    359\u001b[0m     \u001b[39mtry\u001b[39;00m:\n\u001b[0;32m--> 360\u001b[0m         coro\u001b[39m.\u001b[39msend(\u001b[39mNone\u001b[39;00m)\n\u001b[1;32m    361\u001b[0m     \u001b[39mexcept\u001b[39;00m \u001b[39mStopIteration\u001b[39;00m \u001b[39mas\u001b[39;00m ex:\n\u001b[1;32m    362\u001b[0m         \u001b[39mif\u001b[39;00m ex\u001b[39m.\u001b[39margs:\n",
      "File \u001b[0;32m~/anaconda3/lib/python3.11/site-packages/edgedb/base_client.py:746\u001b[0m, in \u001b[0;36mBaseClient._query\u001b[0;34m(self, query_context)\u001b[0m\n\u001b[1;32m    744\u001b[0m con \u001b[39m=\u001b[39m \u001b[39mawait\u001b[39;00m \u001b[39mself\u001b[39m\u001b[39m.\u001b[39m_impl\u001b[39m.\u001b[39macquire()\n\u001b[1;32m    745\u001b[0m \u001b[39mtry\u001b[39;00m:\n\u001b[0;32m--> 746\u001b[0m     \u001b[39mreturn\u001b[39;00m \u001b[39mawait\u001b[39;00m con\u001b[39m.\u001b[39mraw_query(query_context)\n\u001b[1;32m    747\u001b[0m \u001b[39mfinally\u001b[39;00m:\n\u001b[1;32m    748\u001b[0m     \u001b[39mawait\u001b[39;00m \u001b[39mself\u001b[39m\u001b[39m.\u001b[39m_impl\u001b[39m.\u001b[39mrelease(con)\n",
      "File \u001b[0;32m~/anaconda3/lib/python3.11/site-packages/edgedb/blocking_client.py:157\u001b[0m, in \u001b[0;36mBlockingIOConnection.raw_query\u001b[0;34m(self, query_context)\u001b[0m\n\u001b[1;32m    154\u001b[0m \u001b[39mexcept\u001b[39;00m (errors\u001b[39m.\u001b[39mIdleSessionTimeoutError, errors\u001b[39m.\u001b[39mClientConnectionError):\n\u001b[1;32m    155\u001b[0m     \u001b[39mawait\u001b[39;00m \u001b[39mself\u001b[39m\u001b[39m.\u001b[39mconnect()\n\u001b[0;32m--> 157\u001b[0m \u001b[39mreturn\u001b[39;00m \u001b[39mawait\u001b[39;00m \u001b[39msuper\u001b[39m()\u001b[39m.\u001b[39mraw_query(query_context)\n",
      "File \u001b[0;32m~/anaconda3/lib/python3.11/site-packages/edgedb/base_client.py:243\u001b[0m, in \u001b[0;36mBaseConnection.raw_query\u001b[0;34m(self, query_context)\u001b[0m\n\u001b[1;32m    241\u001b[0m     \u001b[39mraise\u001b[39;00m\n\u001b[1;32m    242\u001b[0m \u001b[39mif\u001b[39;00m \u001b[39mnot\u001b[39;00m e\u001b[39m.\u001b[39mhas_tag(errors\u001b[39m.\u001b[39mSHOULD_RETRY):\n\u001b[0;32m--> 243\u001b[0m     \u001b[39mraise\u001b[39;00m e\n\u001b[1;32m    244\u001b[0m \u001b[39mif\u001b[39;00m capabilities \u001b[39mis\u001b[39;00m \u001b[39mNone\u001b[39;00m:\n\u001b[1;32m    245\u001b[0m     cache_item \u001b[39m=\u001b[39m query_context\u001b[39m.\u001b[39mcache\u001b[39m.\u001b[39mquery_cache\u001b[39m.\u001b[39mget(\n\u001b[1;32m    246\u001b[0m         query_context\u001b[39m.\u001b[39mquery\u001b[39m.\u001b[39mquery,\n\u001b[1;32m    247\u001b[0m         query_context\u001b[39m.\u001b[39mquery_options\u001b[39m.\u001b[39moutput_format,\n\u001b[0;32m   (...)\u001b[0m\n\u001b[1;32m    251\u001b[0m         expect_one\u001b[39m=\u001b[39mquery_context\u001b[39m.\u001b[39mquery_options\u001b[39m.\u001b[39mexpect_one,\n\u001b[1;32m    252\u001b[0m     )\n",
      "File \u001b[0;32m~/anaconda3/lib/python3.11/site-packages/edgedb/base_client.py:238\u001b[0m, in \u001b[0;36mBaseConnection.raw_query\u001b[0;34m(self, query_context)\u001b[0m\n\u001b[1;32m    234\u001b[0m         \u001b[39mreturn\u001b[39;00m \u001b[39mawait\u001b[39;00m \u001b[39mself\u001b[39m\u001b[39m.\u001b[39m_protocol\u001b[39m.\u001b[39mlegacy_execute_anonymous(\n\u001b[1;32m    235\u001b[0m             \u001b[39m*\u001b[39m\u001b[39m*\u001b[39margs\n\u001b[1;32m    236\u001b[0m         )\n\u001b[1;32m    237\u001b[0m     \u001b[39melse\u001b[39;00m:\n\u001b[0;32m--> 238\u001b[0m         \u001b[39mreturn\u001b[39;00m \u001b[39mawait\u001b[39;00m \u001b[39mself\u001b[39m\u001b[39m.\u001b[39m_protocol\u001b[39m.\u001b[39mquery(\u001b[39m*\u001b[39m\u001b[39m*\u001b[39margs)\n\u001b[1;32m    239\u001b[0m \u001b[39mexcept\u001b[39;00m errors\u001b[39m.\u001b[39mEdgeDBError \u001b[39mas\u001b[39;00m e:\n\u001b[1;32m    240\u001b[0m     \u001b[39mif\u001b[39;00m query_context\u001b[39m.\u001b[39mretry_options \u001b[39mis\u001b[39;00m \u001b[39mNone\u001b[39;00m:\n",
      "File \u001b[0;32m~/anaconda3/lib/python3.11/site-packages/edgedb/protocol/protocol.pyx:594\u001b[0m, in \u001b[0;36mquery\u001b[0;34m()\u001b[0m\n",
      "File \u001b[0;32m~/anaconda3/lib/python3.11/site-packages/edgedb/protocol/protocol.pyx:559\u001b[0m, in \u001b[0;36mexecute\u001b[0;34m()\u001b[0m\n",
      "File \u001b[0;32m~/anaconda3/lib/python3.11/site-packages/edgedb/protocol/protocol.pyx:464\u001b[0m, in \u001b[0;36m_execute\u001b[0;34m()\u001b[0m\n",
      "\u001b[0;31mInvalidValueError\u001b[0m: cannot extract elements from an object"
     ]
    }
   ],
   "source": [
    "client.query(\"\"\"\n",
    "    with\n",
    "            raw_data := <json>$data,\n",
    "    for item in json_array_unpack(raw_data) union (\n",
    "        insert Breed { name := <str>item['name'] }\n",
    "    );\n",
    "\"\"\", data=jsonBreedstr)"
   ]
  },
  {
   "cell_type": "code",
   "execution_count": 5,
   "metadata": {},
   "outputs": [],
   "source": [
    "jsonReviews = []\n",
    "with open('web_scrapers/welton_reviews_cleaned.json', 'r') as f:\n",
    "    partial_json = \"\"\n",
    "    for line in f:\n",
    "        partial_json += line\n",
    "        try:\n",
    "            data = json.loads(partial_json)\n",
    "            jsonReviews.append(data)\n",
    "            partial_json = \"\"  # Reset partial_json when a complete JSON object is found\n",
    "        except json.JSONDecodeError:\n",
    "            continue\n",
    "#for review in jsonReviews:\n",
    "#    print(review)\n"
   ]
  },
  {
   "cell_type": "code",
   "execution_count": 6,
   "metadata": {},
   "outputs": [],
   "source": [
    "\n",
    "jsonReviewsstr = json.dumps(jsonReviews)\n",
    "#print(jsonReviewsstr)"
   ]
  },
  {
   "cell_type": "code",
   "execution_count": 7,
   "metadata": {},
   "outputs": [],
   "source": [
    "client = edgedb.create_client()"
   ]
  },
  {
   "cell_type": "code",
   "execution_count": 8,
   "metadata": {},
   "outputs": [
    {
     "ename": "MissingRequiredError",
     "evalue": "missing value for required property 'embedding' of object type 'default::Reviews'\n  ┌─ query:4:51\n  │ \n4 │       for item in json_array_unpack(raw_data) union (\n  │ ╭───────────────────────────────────────────────────^\n5 │ │         insert Reviews { name := <str>item['name'] }\n6 │ │     );\n  │ ╰─────^ error",
     "output_type": "error",
     "traceback": [
      "\u001b[0;31m---------------------------------------------------------------------------\u001b[0m",
      "\u001b[0;31mMissingRequiredError\u001b[0m                      Traceback (most recent call last)",
      "\u001b[1;32m/Users/alissaellingson/MSDS459_Proj/edgedb_bulk_load.ipynb Cell 8\u001b[0m line \u001b[0;36m1\n\u001b[0;32m----> <a href='vscode-notebook-cell:/Users/alissaellingson/MSDS459_Proj/edgedb_bulk_load.ipynb#X10sZmlsZQ%3D%3D?line=0'>1</a>\u001b[0m client\u001b[39m.\u001b[39mquery(\u001b[39m\"\"\"\u001b[39m\n\u001b[1;32m      <a href='vscode-notebook-cell:/Users/alissaellingson/MSDS459_Proj/edgedb_bulk_load.ipynb#X10sZmlsZQ%3D%3D?line=1'>2</a>\u001b[0m \u001b[39m    with\u001b[39m\n\u001b[1;32m      <a href='vscode-notebook-cell:/Users/alissaellingson/MSDS459_Proj/edgedb_bulk_load.ipynb#X10sZmlsZQ%3D%3D?line=2'>3</a>\u001b[0m \u001b[39m            raw_data := <json>$data,\u001b[39m\n\u001b[1;32m      <a href='vscode-notebook-cell:/Users/alissaellingson/MSDS459_Proj/edgedb_bulk_load.ipynb#X10sZmlsZQ%3D%3D?line=3'>4</a>\u001b[0m \u001b[39m    for item in json_array_unpack(raw_data) union (\u001b[39m\n\u001b[1;32m      <a href='vscode-notebook-cell:/Users/alissaellingson/MSDS459_Proj/edgedb_bulk_load.ipynb#X10sZmlsZQ%3D%3D?line=4'>5</a>\u001b[0m \u001b[39m        insert Reviews \u001b[39m\u001b[39m{\u001b[39m\u001b[39m name := <str>item[\u001b[39m\u001b[39m'\u001b[39m\u001b[39mname\u001b[39m\u001b[39m'\u001b[39m\u001b[39m] }\u001b[39m\n\u001b[1;32m      <a href='vscode-notebook-cell:/Users/alissaellingson/MSDS459_Proj/edgedb_bulk_load.ipynb#X10sZmlsZQ%3D%3D?line=5'>6</a>\u001b[0m \u001b[39m    );\u001b[39m\n\u001b[1;32m      <a href='vscode-notebook-cell:/Users/alissaellingson/MSDS459_Proj/edgedb_bulk_load.ipynb#X10sZmlsZQ%3D%3D?line=6'>7</a>\u001b[0m \u001b[39m\"\"\"\u001b[39m, data\u001b[39m=\u001b[39mjsonReviewsstr)\n",
      "File \u001b[0;32m~/anaconda3/lib/python3.11/site-packages/edgedb/abstract.py:148\u001b[0m, in \u001b[0;36mReadOnlyExecutor.query\u001b[0;34m(self, query, *args, **kwargs)\u001b[0m\n\u001b[1;32m    147\u001b[0m \u001b[39mdef\u001b[39;00m \u001b[39mquery\u001b[39m(\u001b[39mself\u001b[39m, query: \u001b[39mstr\u001b[39m, \u001b[39m*\u001b[39margs, \u001b[39m*\u001b[39m\u001b[39m*\u001b[39mkwargs) \u001b[39m-\u001b[39m\u001b[39m>\u001b[39m \u001b[39mlist\u001b[39m:\n\u001b[0;32m--> 148\u001b[0m     \u001b[39mreturn\u001b[39;00m \u001b[39mself\u001b[39m\u001b[39m.\u001b[39m_query(QueryContext(\n\u001b[1;32m    149\u001b[0m         query\u001b[39m=\u001b[39mQueryWithArgs(query, args, kwargs),\n\u001b[1;32m    150\u001b[0m         cache\u001b[39m=\u001b[39m\u001b[39mself\u001b[39m\u001b[39m.\u001b[39m_get_query_cache(),\n\u001b[1;32m    151\u001b[0m         query_options\u001b[39m=\u001b[39m_query_opts,\n\u001b[1;32m    152\u001b[0m         retry_options\u001b[39m=\u001b[39m\u001b[39mself\u001b[39m\u001b[39m.\u001b[39m_get_retry_options(),\n\u001b[1;32m    153\u001b[0m         state\u001b[39m=\u001b[39m\u001b[39mself\u001b[39m\u001b[39m.\u001b[39m_get_state(),\n\u001b[1;32m    154\u001b[0m     ))\n",
      "File \u001b[0;32m~/anaconda3/lib/python3.11/site-packages/edgedb/blocking_client.py:371\u001b[0m, in \u001b[0;36mClient._query\u001b[0;34m(self, query_context)\u001b[0m\n\u001b[1;32m    370\u001b[0m \u001b[39mdef\u001b[39;00m \u001b[39m_query\u001b[39m(\u001b[39mself\u001b[39m, query_context: abstract\u001b[39m.\u001b[39mQueryContext):\n\u001b[0;32m--> 371\u001b[0m     \u001b[39mreturn\u001b[39;00m \u001b[39mself\u001b[39m\u001b[39m.\u001b[39m_iter_coroutine(\u001b[39msuper\u001b[39m()\u001b[39m.\u001b[39m_query(query_context))\n",
      "File \u001b[0;32m~/anaconda3/lib/python3.11/site-packages/edgedb/blocking_client.py:360\u001b[0m, in \u001b[0;36mClient._iter_coroutine\u001b[0;34m(self, coro)\u001b[0m\n\u001b[1;32m    358\u001b[0m \u001b[39mdef\u001b[39;00m \u001b[39m_iter_coroutine\u001b[39m(\u001b[39mself\u001b[39m, coro):\n\u001b[1;32m    359\u001b[0m     \u001b[39mtry\u001b[39;00m:\n\u001b[0;32m--> 360\u001b[0m         coro\u001b[39m.\u001b[39msend(\u001b[39mNone\u001b[39;00m)\n\u001b[1;32m    361\u001b[0m     \u001b[39mexcept\u001b[39;00m \u001b[39mStopIteration\u001b[39;00m \u001b[39mas\u001b[39;00m ex:\n\u001b[1;32m    362\u001b[0m         \u001b[39mif\u001b[39;00m ex\u001b[39m.\u001b[39margs:\n",
      "File \u001b[0;32m~/anaconda3/lib/python3.11/site-packages/edgedb/base_client.py:746\u001b[0m, in \u001b[0;36mBaseClient._query\u001b[0;34m(self, query_context)\u001b[0m\n\u001b[1;32m    744\u001b[0m con \u001b[39m=\u001b[39m \u001b[39mawait\u001b[39;00m \u001b[39mself\u001b[39m\u001b[39m.\u001b[39m_impl\u001b[39m.\u001b[39macquire()\n\u001b[1;32m    745\u001b[0m \u001b[39mtry\u001b[39;00m:\n\u001b[0;32m--> 746\u001b[0m     \u001b[39mreturn\u001b[39;00m \u001b[39mawait\u001b[39;00m con\u001b[39m.\u001b[39mraw_query(query_context)\n\u001b[1;32m    747\u001b[0m \u001b[39mfinally\u001b[39;00m:\n\u001b[1;32m    748\u001b[0m     \u001b[39mawait\u001b[39;00m \u001b[39mself\u001b[39m\u001b[39m.\u001b[39m_impl\u001b[39m.\u001b[39mrelease(con)\n",
      "File \u001b[0;32m~/anaconda3/lib/python3.11/site-packages/edgedb/blocking_client.py:157\u001b[0m, in \u001b[0;36mBlockingIOConnection.raw_query\u001b[0;34m(self, query_context)\u001b[0m\n\u001b[1;32m    154\u001b[0m \u001b[39mexcept\u001b[39;00m (errors\u001b[39m.\u001b[39mIdleSessionTimeoutError, errors\u001b[39m.\u001b[39mClientConnectionError):\n\u001b[1;32m    155\u001b[0m     \u001b[39mawait\u001b[39;00m \u001b[39mself\u001b[39m\u001b[39m.\u001b[39mconnect()\n\u001b[0;32m--> 157\u001b[0m \u001b[39mreturn\u001b[39;00m \u001b[39mawait\u001b[39;00m \u001b[39msuper\u001b[39m()\u001b[39m.\u001b[39mraw_query(query_context)\n",
      "File \u001b[0;32m~/anaconda3/lib/python3.11/site-packages/edgedb/base_client.py:243\u001b[0m, in \u001b[0;36mBaseConnection.raw_query\u001b[0;34m(self, query_context)\u001b[0m\n\u001b[1;32m    241\u001b[0m     \u001b[39mraise\u001b[39;00m\n\u001b[1;32m    242\u001b[0m \u001b[39mif\u001b[39;00m \u001b[39mnot\u001b[39;00m e\u001b[39m.\u001b[39mhas_tag(errors\u001b[39m.\u001b[39mSHOULD_RETRY):\n\u001b[0;32m--> 243\u001b[0m     \u001b[39mraise\u001b[39;00m e\n\u001b[1;32m    244\u001b[0m \u001b[39mif\u001b[39;00m capabilities \u001b[39mis\u001b[39;00m \u001b[39mNone\u001b[39;00m:\n\u001b[1;32m    245\u001b[0m     cache_item \u001b[39m=\u001b[39m query_context\u001b[39m.\u001b[39mcache\u001b[39m.\u001b[39mquery_cache\u001b[39m.\u001b[39mget(\n\u001b[1;32m    246\u001b[0m         query_context\u001b[39m.\u001b[39mquery\u001b[39m.\u001b[39mquery,\n\u001b[1;32m    247\u001b[0m         query_context\u001b[39m.\u001b[39mquery_options\u001b[39m.\u001b[39moutput_format,\n\u001b[0;32m   (...)\u001b[0m\n\u001b[1;32m    251\u001b[0m         expect_one\u001b[39m=\u001b[39mquery_context\u001b[39m.\u001b[39mquery_options\u001b[39m.\u001b[39mexpect_one,\n\u001b[1;32m    252\u001b[0m     )\n",
      "File \u001b[0;32m~/anaconda3/lib/python3.11/site-packages/edgedb/base_client.py:238\u001b[0m, in \u001b[0;36mBaseConnection.raw_query\u001b[0;34m(self, query_context)\u001b[0m\n\u001b[1;32m    234\u001b[0m         \u001b[39mreturn\u001b[39;00m \u001b[39mawait\u001b[39;00m \u001b[39mself\u001b[39m\u001b[39m.\u001b[39m_protocol\u001b[39m.\u001b[39mlegacy_execute_anonymous(\n\u001b[1;32m    235\u001b[0m             \u001b[39m*\u001b[39m\u001b[39m*\u001b[39margs\n\u001b[1;32m    236\u001b[0m         )\n\u001b[1;32m    237\u001b[0m     \u001b[39melse\u001b[39;00m:\n\u001b[0;32m--> 238\u001b[0m         \u001b[39mreturn\u001b[39;00m \u001b[39mawait\u001b[39;00m \u001b[39mself\u001b[39m\u001b[39m.\u001b[39m_protocol\u001b[39m.\u001b[39mquery(\u001b[39m*\u001b[39m\u001b[39m*\u001b[39margs)\n\u001b[1;32m    239\u001b[0m \u001b[39mexcept\u001b[39;00m errors\u001b[39m.\u001b[39mEdgeDBError \u001b[39mas\u001b[39;00m e:\n\u001b[1;32m    240\u001b[0m     \u001b[39mif\u001b[39;00m query_context\u001b[39m.\u001b[39mretry_options \u001b[39mis\u001b[39;00m \u001b[39mNone\u001b[39;00m:\n",
      "File \u001b[0;32m~/anaconda3/lib/python3.11/site-packages/edgedb/protocol/protocol.pyx:594\u001b[0m, in \u001b[0;36mquery\u001b[0;34m()\u001b[0m\n",
      "File \u001b[0;32m~/anaconda3/lib/python3.11/site-packages/edgedb/protocol/protocol.pyx:528\u001b[0m, in \u001b[0;36mexecute\u001b[0;34m()\u001b[0m\n",
      "File \u001b[0;32m~/anaconda3/lib/python3.11/site-packages/edgedb/protocol/protocol.pyx:322\u001b[0m, in \u001b[0;36m_parse\u001b[0;34m()\u001b[0m\n",
      "\u001b[0;31mMissingRequiredError\u001b[0m: missing value for required property 'embedding' of object type 'default::Reviews'\n  ┌─ query:4:51\n  │ \n4 │       for item in json_array_unpack(raw_data) union (\n  │ ╭───────────────────────────────────────────────────^\n5 │ │         insert Reviews { name := <str>item['name'] }\n6 │ │     );\n  │ ╰─────^ error"
     ]
    }
   ],
   "source": [
    "client.query(\"\"\"\n",
    "    with\n",
    "            raw_data := <json>$data,\n",
    "    for item in json_array_unpack(raw_data) union (\n",
    "        insert Reviews { name := <str>item['name'] }\n",
    "    );\n",
    "\"\"\", data=jsonReviewsstr)"
   ]
  },
  {
   "cell_type": "code",
   "execution_count": 9,
   "metadata": {},
   "outputs": [
    {
     "ename": "EdgeQLSyntaxError",
     "evalue": "Unexpected \"'review'\"\n  ┌─ query:3:9\n  │ \n3 │           'review'}\n  │           ^^^^^^^^ error",
     "output_type": "error",
     "traceback": [
      "\u001b[0;31m---------------------------------------------------------------------------\u001b[0m",
      "\u001b[0;31mEdgeQLSyntaxError\u001b[0m                         Traceback (most recent call last)",
      "\u001b[1;32m/Users/alissaellingson/MSDS459_Proj/edgedb_bulk_load.ipynb Cell 9\u001b[0m line \u001b[0;36m1\n\u001b[0;32m----> <a href='vscode-notebook-cell:/Users/alissaellingson/MSDS459_Proj/edgedb_bulk_load.ipynb#X11sZmlsZQ%3D%3D?line=0'>1</a>\u001b[0m result \u001b[39m=\u001b[39m client\u001b[39m.\u001b[39mquery(\u001b[39m\"\"\"\u001b[39m\n\u001b[1;32m      <a href='vscode-notebook-cell:/Users/alissaellingson/MSDS459_Proj/edgedb_bulk_load.ipynb#X11sZmlsZQ%3D%3D?line=1'>2</a>\u001b[0m \u001b[39m    select Reviews \u001b[39m\u001b[39m{\u001b[39m\n\u001b[1;32m      <a href='vscode-notebook-cell:/Users/alissaellingson/MSDS459_Proj/edgedb_bulk_load.ipynb#X11sZmlsZQ%3D%3D?line=2'>3</a>\u001b[0m \u001b[39m        \u001b[39m\u001b[39m'\u001b[39m\u001b[39mreview\u001b[39m\u001b[39m'\u001b[39m\u001b[39m}\u001b[39m\n\u001b[1;32m      <a href='vscode-notebook-cell:/Users/alissaellingson/MSDS459_Proj/edgedb_bulk_load.ipynb#X11sZmlsZQ%3D%3D?line=3'>4</a>\u001b[0m \u001b[39m\"\"\"\u001b[39m)\n",
      "File \u001b[0;32m~/anaconda3/lib/python3.11/site-packages/edgedb/abstract.py:148\u001b[0m, in \u001b[0;36mReadOnlyExecutor.query\u001b[0;34m(self, query, *args, **kwargs)\u001b[0m\n\u001b[1;32m    147\u001b[0m \u001b[39mdef\u001b[39;00m \u001b[39mquery\u001b[39m(\u001b[39mself\u001b[39m, query: \u001b[39mstr\u001b[39m, \u001b[39m*\u001b[39margs, \u001b[39m*\u001b[39m\u001b[39m*\u001b[39mkwargs) \u001b[39m-\u001b[39m\u001b[39m>\u001b[39m \u001b[39mlist\u001b[39m:\n\u001b[0;32m--> 148\u001b[0m     \u001b[39mreturn\u001b[39;00m \u001b[39mself\u001b[39m\u001b[39m.\u001b[39m_query(QueryContext(\n\u001b[1;32m    149\u001b[0m         query\u001b[39m=\u001b[39mQueryWithArgs(query, args, kwargs),\n\u001b[1;32m    150\u001b[0m         cache\u001b[39m=\u001b[39m\u001b[39mself\u001b[39m\u001b[39m.\u001b[39m_get_query_cache(),\n\u001b[1;32m    151\u001b[0m         query_options\u001b[39m=\u001b[39m_query_opts,\n\u001b[1;32m    152\u001b[0m         retry_options\u001b[39m=\u001b[39m\u001b[39mself\u001b[39m\u001b[39m.\u001b[39m_get_retry_options(),\n\u001b[1;32m    153\u001b[0m         state\u001b[39m=\u001b[39m\u001b[39mself\u001b[39m\u001b[39m.\u001b[39m_get_state(),\n\u001b[1;32m    154\u001b[0m     ))\n",
      "File \u001b[0;32m~/anaconda3/lib/python3.11/site-packages/edgedb/blocking_client.py:371\u001b[0m, in \u001b[0;36mClient._query\u001b[0;34m(self, query_context)\u001b[0m\n\u001b[1;32m    370\u001b[0m \u001b[39mdef\u001b[39;00m \u001b[39m_query\u001b[39m(\u001b[39mself\u001b[39m, query_context: abstract\u001b[39m.\u001b[39mQueryContext):\n\u001b[0;32m--> 371\u001b[0m     \u001b[39mreturn\u001b[39;00m \u001b[39mself\u001b[39m\u001b[39m.\u001b[39m_iter_coroutine(\u001b[39msuper\u001b[39m()\u001b[39m.\u001b[39m_query(query_context))\n",
      "File \u001b[0;32m~/anaconda3/lib/python3.11/site-packages/edgedb/blocking_client.py:360\u001b[0m, in \u001b[0;36mClient._iter_coroutine\u001b[0;34m(self, coro)\u001b[0m\n\u001b[1;32m    358\u001b[0m \u001b[39mdef\u001b[39;00m \u001b[39m_iter_coroutine\u001b[39m(\u001b[39mself\u001b[39m, coro):\n\u001b[1;32m    359\u001b[0m     \u001b[39mtry\u001b[39;00m:\n\u001b[0;32m--> 360\u001b[0m         coro\u001b[39m.\u001b[39msend(\u001b[39mNone\u001b[39;00m)\n\u001b[1;32m    361\u001b[0m     \u001b[39mexcept\u001b[39;00m \u001b[39mStopIteration\u001b[39;00m \u001b[39mas\u001b[39;00m ex:\n\u001b[1;32m    362\u001b[0m         \u001b[39mif\u001b[39;00m ex\u001b[39m.\u001b[39margs:\n",
      "File \u001b[0;32m~/anaconda3/lib/python3.11/site-packages/edgedb/base_client.py:746\u001b[0m, in \u001b[0;36mBaseClient._query\u001b[0;34m(self, query_context)\u001b[0m\n\u001b[1;32m    744\u001b[0m con \u001b[39m=\u001b[39m \u001b[39mawait\u001b[39;00m \u001b[39mself\u001b[39m\u001b[39m.\u001b[39m_impl\u001b[39m.\u001b[39macquire()\n\u001b[1;32m    745\u001b[0m \u001b[39mtry\u001b[39;00m:\n\u001b[0;32m--> 746\u001b[0m     \u001b[39mreturn\u001b[39;00m \u001b[39mawait\u001b[39;00m con\u001b[39m.\u001b[39mraw_query(query_context)\n\u001b[1;32m    747\u001b[0m \u001b[39mfinally\u001b[39;00m:\n\u001b[1;32m    748\u001b[0m     \u001b[39mawait\u001b[39;00m \u001b[39mself\u001b[39m\u001b[39m.\u001b[39m_impl\u001b[39m.\u001b[39mrelease(con)\n",
      "File \u001b[0;32m~/anaconda3/lib/python3.11/site-packages/edgedb/blocking_client.py:157\u001b[0m, in \u001b[0;36mBlockingIOConnection.raw_query\u001b[0;34m(self, query_context)\u001b[0m\n\u001b[1;32m    154\u001b[0m \u001b[39mexcept\u001b[39;00m (errors\u001b[39m.\u001b[39mIdleSessionTimeoutError, errors\u001b[39m.\u001b[39mClientConnectionError):\n\u001b[1;32m    155\u001b[0m     \u001b[39mawait\u001b[39;00m \u001b[39mself\u001b[39m\u001b[39m.\u001b[39mconnect()\n\u001b[0;32m--> 157\u001b[0m \u001b[39mreturn\u001b[39;00m \u001b[39mawait\u001b[39;00m \u001b[39msuper\u001b[39m()\u001b[39m.\u001b[39mraw_query(query_context)\n",
      "File \u001b[0;32m~/anaconda3/lib/python3.11/site-packages/edgedb/base_client.py:243\u001b[0m, in \u001b[0;36mBaseConnection.raw_query\u001b[0;34m(self, query_context)\u001b[0m\n\u001b[1;32m    241\u001b[0m     \u001b[39mraise\u001b[39;00m\n\u001b[1;32m    242\u001b[0m \u001b[39mif\u001b[39;00m \u001b[39mnot\u001b[39;00m e\u001b[39m.\u001b[39mhas_tag(errors\u001b[39m.\u001b[39mSHOULD_RETRY):\n\u001b[0;32m--> 243\u001b[0m     \u001b[39mraise\u001b[39;00m e\n\u001b[1;32m    244\u001b[0m \u001b[39mif\u001b[39;00m capabilities \u001b[39mis\u001b[39;00m \u001b[39mNone\u001b[39;00m:\n\u001b[1;32m    245\u001b[0m     cache_item \u001b[39m=\u001b[39m query_context\u001b[39m.\u001b[39mcache\u001b[39m.\u001b[39mquery_cache\u001b[39m.\u001b[39mget(\n\u001b[1;32m    246\u001b[0m         query_context\u001b[39m.\u001b[39mquery\u001b[39m.\u001b[39mquery,\n\u001b[1;32m    247\u001b[0m         query_context\u001b[39m.\u001b[39mquery_options\u001b[39m.\u001b[39moutput_format,\n\u001b[0;32m   (...)\u001b[0m\n\u001b[1;32m    251\u001b[0m         expect_one\u001b[39m=\u001b[39mquery_context\u001b[39m.\u001b[39mquery_options\u001b[39m.\u001b[39mexpect_one,\n\u001b[1;32m    252\u001b[0m     )\n",
      "File \u001b[0;32m~/anaconda3/lib/python3.11/site-packages/edgedb/base_client.py:238\u001b[0m, in \u001b[0;36mBaseConnection.raw_query\u001b[0;34m(self, query_context)\u001b[0m\n\u001b[1;32m    234\u001b[0m         \u001b[39mreturn\u001b[39;00m \u001b[39mawait\u001b[39;00m \u001b[39mself\u001b[39m\u001b[39m.\u001b[39m_protocol\u001b[39m.\u001b[39mlegacy_execute_anonymous(\n\u001b[1;32m    235\u001b[0m             \u001b[39m*\u001b[39m\u001b[39m*\u001b[39margs\n\u001b[1;32m    236\u001b[0m         )\n\u001b[1;32m    237\u001b[0m     \u001b[39melse\u001b[39;00m:\n\u001b[0;32m--> 238\u001b[0m         \u001b[39mreturn\u001b[39;00m \u001b[39mawait\u001b[39;00m \u001b[39mself\u001b[39m\u001b[39m.\u001b[39m_protocol\u001b[39m.\u001b[39mquery(\u001b[39m*\u001b[39m\u001b[39m*\u001b[39margs)\n\u001b[1;32m    239\u001b[0m \u001b[39mexcept\u001b[39;00m errors\u001b[39m.\u001b[39mEdgeDBError \u001b[39mas\u001b[39;00m e:\n\u001b[1;32m    240\u001b[0m     \u001b[39mif\u001b[39;00m query_context\u001b[39m.\u001b[39mretry_options \u001b[39mis\u001b[39;00m \u001b[39mNone\u001b[39;00m:\n",
      "File \u001b[0;32m~/anaconda3/lib/python3.11/site-packages/edgedb/protocol/protocol.pyx:594\u001b[0m, in \u001b[0;36mquery\u001b[0;34m()\u001b[0m\n",
      "File \u001b[0;32m~/anaconda3/lib/python3.11/site-packages/edgedb/protocol/protocol.pyx:559\u001b[0m, in \u001b[0;36mexecute\u001b[0;34m()\u001b[0m\n",
      "File \u001b[0;32m~/anaconda3/lib/python3.11/site-packages/edgedb/protocol/protocol.pyx:464\u001b[0m, in \u001b[0;36m_execute\u001b[0;34m()\u001b[0m\n",
      "\u001b[0;31mEdgeQLSyntaxError\u001b[0m: Unexpected \"'review'\"\n  ┌─ query:3:9\n  │ \n3 │           'review'}\n  │           ^^^^^^^^ error"
     ]
    }
   ],
   "source": [
    "result = client.query(\"\"\"\n",
    "    select Reviews {\n",
    "        'review'}\n",
    "\"\"\")"
   ]
  },
  {
   "cell_type": "code",
   "execution_count": null,
   "metadata": {},
   "outputs": [],
   "source": [
    "#print(result)"
   ]
  }
 ],
 "metadata": {
  "kernelspec": {
   "display_name": "base",
   "language": "python",
   "name": "python3"
  },
  "language_info": {
   "codemirror_mode": {
    "name": "ipython",
    "version": 3
   },
   "file_extension": ".py",
   "mimetype": "text/x-python",
   "name": "python",
   "nbconvert_exporter": "python",
   "pygments_lexer": "ipython3",
   "version": "3.11.4"
  }
 },
 "nbformat": 4,
 "nbformat_minor": 2
}
