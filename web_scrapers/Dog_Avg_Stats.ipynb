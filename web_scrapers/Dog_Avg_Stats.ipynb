{
 "cells": [
  {
   "cell_type": "code",
   "execution_count": 1,
   "id": "7672598d",
   "metadata": {},
   "outputs": [],
   "source": [
    "import pandas as pd\n",
    "\n",
    "# life expectancy, weight and height data column\n",
    "columns_to_read = ['dog_breed','min_life_expectancy','max_life_expectancy','min_height_male','min_height_female','max_height_male','max_height_female','min_weight_male','min_weight_female','max_weight_male','max_weight_female']\n",
    "\n",
    "# Read the specified columns from the CSV file\n",
    "df = pd.read_csv('dogfacts.csv', usecols=columns_to_read, index_col=0)\n",
    "\n",
    "#calculate average measures\n",
    "df['avg_life_expectancy'] = df[['min_life_expectancy', 'max_life_expectancy']].mean(axis=1)\n",
    "df['avg_height'] = df[['min_height_male','min_height_female','max_height_male','max_height_female']].mean(axis=1)\n",
    "df['avg_weight'] = df[['min_weight_male','min_weight_female','max_weight_male','max_weight_female']].mean(axis=1)\n",
    "\n",
    "# new df with the average measures only, and drop all the nan\n",
    "average_df = df[['avg_life_expectancy', 'avg_height', 'avg_weight']]\n",
    "average_df = average_df.dropna()\n",
    "\n",
    "# move dog_breed name from index to column\n",
    "average_df.reset_index(inplace=True)\n",
    "\n",
    "#export to csv and json\n",
    "average_df.to_csv('dog_avg_stat.csv', index=False)\n",
    "average_df.to_json('dog_avg_stat.json', orient='records', lines=True)"
   ]
  }
 ],
 "metadata": {
  "kernelspec": {
   "display_name": "Python 3 (ipykernel)",
   "language": "python",
   "name": "python3"
  },
  "language_info": {
   "codemirror_mode": {
    "name": "ipython",
    "version": 3
   },
   "file_extension": ".py",
   "mimetype": "text/x-python",
   "name": "python",
   "nbconvert_exporter": "python",
   "pygments_lexer": "ipython3",
   "version": "3.9.12"
  }
 },
 "nbformat": 4,
 "nbformat_minor": 5
}
